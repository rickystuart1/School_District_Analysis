{
 "cells": [
  {
   "cell_type": "code",
   "execution_count": 2,
   "id": "6ef22f7d",
   "metadata": {},
   "outputs": [
    {
     "name": "stdout",
     "output_type": "stream",
     "text": [
      "Felix\n"
     ]
    }
   ],
   "source": [
    "class Cat:\n",
    "    def __init__(self, name):\n",
    "        self.name = name\n",
    "first_cat = Cat('Felix')\n",
    "print(first_cat.name)"
   ]
  },
  {
   "cell_type": "code",
   "execution_count": 3,
   "id": "db4fdbbd",
   "metadata": {},
   "outputs": [
    {
     "name": "stdout",
     "output_type": "stream",
     "text": [
      "Garfield\n"
     ]
    }
   ],
   "source": [
    "second_cat = Cat('Garfield')\n",
    "print(second_cat.name)"
   ]
  },
  {
   "cell_type": "code",
   "execution_count": 8,
   "id": "b8beb82d",
   "metadata": {},
   "outputs": [
    {
     "name": "stdout",
     "output_type": "stream",
     "text": [
      "Fido\n",
      "brown\n"
     ]
    },
    {
     "data": {
      "text/plain": [
       "'woof! woof!'"
      ]
     },
     "execution_count": 8,
     "metadata": {},
     "output_type": "execute_result"
    }
   ],
   "source": [
    "class Dog:\n",
    "    def __init__(self, name, color, sound):\n",
    "        self.name = name\n",
    "        self.color = color\n",
    "        self.sound = sound\n",
    "        \n",
    "    def bark(self):\n",
    "        return self.sound + ' ' + self.sound\n",
    "first_dog = Dog('Fido', 'brown', 'woof!')\n",
    "print(first_dog.name)\n",
    "print(first_dog.color)\n",
    "first_dog.bark()"
   ]
  },
  {
   "cell_type": "code",
   "execution_count": 9,
   "id": "bc720b2e",
   "metadata": {},
   "outputs": [
    {
     "data": {
      "text/plain": [
       "'arf! arf!'"
      ]
     },
     "execution_count": 9,
     "metadata": {},
     "output_type": "execute_result"
    }
   ],
   "source": [
    "second_dog = Dog('Lady', 'blonde', 'arf!')\n",
    "second_dog.bark()"
   ]
  },
  {
   "cell_type": "code",
   "execution_count": null,
   "id": "88d06ebf",
   "metadata": {},
   "outputs": [],
   "source": []
  }
 ],
 "metadata": {
  "kernelspec": {
   "display_name": "PythonData",
   "language": "python",
   "name": "pythondata"
  },
  "language_info": {
   "codemirror_mode": {
    "name": "ipython",
    "version": 3
   },
   "file_extension": ".py",
   "mimetype": "text/x-python",
   "name": "python",
   "nbconvert_exporter": "python",
   "pygments_lexer": "ipython3",
   "version": "3.7.11"
  }
 },
 "nbformat": 4,
 "nbformat_minor": 5
}
